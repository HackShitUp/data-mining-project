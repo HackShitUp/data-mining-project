{
 "cells": [
  {
   "cell_type": "code",
   "execution_count": null,
   "metadata": {},
   "outputs": [],
   "source": [
    "import warnings\n",
    "warnings.filterwarnings(\"ignore\")\n",
    "import pandas as pd\n",
    "import numpy as np\n",
    "from sklearn.preprocessing import LabelEncoder\n",
    "from sklearn.preprocessing import OneHotEncoder\n",
    "from sklearn.svm import SVC\n",
    "from sklearn.metrics import classification_report, confusion_matrix\n",
    "from imblearn.over_sampling import SMOTE\n",
    "from sklearn.neighbors import KNeighborsClassifier\n",
    "from statistics import mode\n",
    "from sklearn.naive_bayes import GaussianNB\n",
    "from sklearn.tree import DecisionTreeClassifier"
   ]
  },
  {
   "cell_type": "code",
   "execution_count": null,
   "metadata": {},
   "outputs": [],
   "source": [
    "test = pd.read_csv('census-income.test.csv')\n",
    "train = pd.read_csv('census-income.data.csv')\n",
    "test = test.drop(columns=['label'])\n",
    "train = train.drop(columns=['label'])"
   ]
  },
  {
   "cell_type": "code",
   "execution_count": null,
   "metadata": {},
   "outputs": [],
   "source": [
    "#data preprocessing"
   ]
  },
  {
   "cell_type": "code",
   "execution_count": null,
   "metadata": {},
   "outputs": [],
   "source": [
    "# imputing data in empty cells\n",
    "# since all missing data were in discrete features, the mode was used\n",
    "test_modes = test.mode()\n",
    "for index in range(test.shape[0]):\n",
    "    for col in test.columns:\n",
    "        if test.at[index, col] == ' ?':\n",
    "            test.at[index, col] = test_modes.at[0, col]\n",
    "train_modes = train.mode()\n",
    "for index in range(train.shape[0]):\n",
    "    for col in train.columns:\n",
    "        if train.at[index, col] == ' ?':\n",
    "            train.at[index, col] = train_modes.at[0, col]"
   ]
  },
  {
   "cell_type": "code",
   "execution_count": null,
   "metadata": {},
   "outputs": [],
   "source": [
    "#converting sex to binary female = 0 male = 1\n",
    "for index in range(test.shape[0]):\n",
    "    if test.at[index, 'sex'] == ' Male':\n",
    "        test.at[index, 'sex'] = 1\n",
    "    else: \n",
    "        test.at[index, 'sex'] = 0        \n",
    "for index in range(train.shape[0]):\n",
    "    if train.at[index, 'sex'] == ' Male':\n",
    "        train.at[index, 'sex'] = 1\n",
    "    else:\n",
    "        train.at[index, 'sex'] = 0"
   ]
  },
  {
   "cell_type": "code",
   "execution_count": null,
   "metadata": {},
   "outputs": [],
   "source": [
    "def one_hot_encode(feature):\n",
    "    label_encoder = LabelEncoder()\n",
    "    onehot_encoder = OneHotEncoder()\n",
    "    feature_label = feature + '_label'\n",
    "    #test\n",
    "    feature_labels = label_encoder.fit_transform(test[feature])\n",
    "    test[feature_label] = feature_labels\n",
    "    test_feature_arr = onehot_encoder.fit_transform(test[[feature_label]]).toarray()\n",
    "    feature_new_labels = list(label_encoder.classes_)\n",
    "    feature_test_features = pd.DataFrame(test_feature_arr, columns=feature_new_labels)\n",
    "    #train\n",
    "    feature_labels = label_encoder.fit_transform(train[feature])\n",
    "    train[feature_label] = feature_labels\n",
    "    train_feature_arr = onehot_encoder.fit_transform(train[[feature_label]]).toarray()\n",
    "    feature_new_labels = list(label_encoder.classes_)\n",
    "    feature_train_features = pd.DataFrame(train_feature_arr, columns=feature_new_labels)\n",
    "    return [feature_test_features, feature_train_features]"
   ]
  },
  {
   "cell_type": "code",
   "execution_count": null,
   "metadata": {},
   "outputs": [],
   "source": [
    "# one hot encoding discrete features using sklearn module\n",
    "race_test_features, race_train_features = one_hot_encode('race')\n",
    "education_test_features, education_train_features = one_hot_encode('education')\n",
    "workclass_test_features, workclass_train_features = one_hot_encode('workclass')\n",
    "marital_test_features, marital_train_features = one_hot_encode('marital-status')\n",
    "relationship_test_features, relationship_train_features = one_hot_encode('relationship')\n",
    "occupation_test_features, occupation_train_features = one_hot_encode('occupation')\n",
    "native_country_test_features, native_country_train_features = one_hot_encode('native-country')"
   ]
  },
  {
   "cell_type": "code",
   "execution_count": null,
   "metadata": {},
   "outputs": [],
   "source": [
    "# creating table of one hot encoded testing data\n",
    "test_ohe = pd.concat([test['age'], test['fnlwgt'], test['education-num'], test['capital-gain'], test['capital-loss'], test['hours-per-week'], race_test_features, education_test_features, workclass_test_features, marital_test_features, relationship_test_features, occupation_test_features, native_country_test_features], axis=1)\n",
    "# need to add a column of ' Holand-Netherlands' since test data doesn't have a point with ' Holand-Netherlands' and training data does\n",
    "test_ohe[' Holand-Netherlands'] = 0\n",
    "test_ohe.head()"
   ]
  },
  {
   "cell_type": "code",
   "execution_count": null,
   "metadata": {},
   "outputs": [],
   "source": [
    "# creating table of one hot encoded training data\n",
    "train_ohe = pd.concat([train['age'], train['fnlwgt'], train['education-num'], train['capital-gain'], train['capital-loss'], train['hours-per-week'], race_train_features, education_train_features, workclass_train_features, marital_train_features, relationship_train_features, occupation_train_features, native_country_train_features], axis=1)\n",
    "train_ohe.head()"
   ]
  },
  {
   "cell_type": "code",
   "execution_count": null,
   "metadata": {},
   "outputs": [],
   "source": [
    "# creating array of test labels\n",
    "test_labels = pd.read_csv('census-income.test.csv')\n",
    "test_labels = test_labels.drop(columns=['age', 'workclass', 'fnlwgt', 'education', 'education-num', 'marital-status', 'occupation', 'relationship', 'race', 'sex', 'capital-gain', 'hours-per-week', 'capital-loss', 'native-country'])\n",
    "# creating array of training labels\n",
    "train_labels = pd.read_csv('census-income.data.csv')\n",
    "train_labels = train_labels.drop(columns=['age', 'workclass', 'fnlwgt', 'education', 'education-num', 'marital-status', 'occupation', 'relationship', 'race', 'sex', 'capital-gain', 'hours-per-week', 'capital-loss', 'native-country'])\n",
    "# converting labels into binary: 0 for less than 50K, 1 for greater than 50K\n",
    "for index in range(train_labels.shape[0]):\n",
    "    if train_labels.at[index, 'label'] == ' <=50K':\n",
    "        train_labels.at[index, 'label'] = 0\n",
    "    else:\n",
    "        train_labels.at[index, 'label'] = 1\n",
    "for index in range(test_labels.shape[0]):\n",
    "    if test_labels.at[index, 'label'] == ' <=50K.':\n",
    "        test_labels.at[index, 'label'] = 0\n",
    "    else:\n",
    "        test_labels.at[index, 'label'] = 1\n",
    "# converting labels from panda dataframe to flattened array\n",
    "unflattened = train_labels\n",
    "train_labels = train_labels['label']\n",
    "train_labels = train_labels.astype('int')\n",
    "test_labels = test_labels['label']\n",
    "test_labels = test_labels.astype('int')"
   ]
  },
  {
   "cell_type": "code",
   "execution_count": null,
   "metadata": {},
   "outputs": [],
   "source": [
    "# using SMOTE on training data because the data is imbalanced\n",
    "sm = SMOTE()\n",
    "train_features_balanced, train_labels_balanced = sm.fit_sample(train_ohe, train_labels)\n",
    "test_features = test_ohe"
   ]
  },
  {
   "cell_type": "code",
   "execution_count": null,
   "metadata": {},
   "outputs": [],
   "source": [
    "# data mining "
   ]
  },
  {
   "cell_type": "code",
   "execution_count": 55,
   "metadata": {},
   "outputs": [],
   "source": [
    "# decision tree\n",
    "dt_classifier = DecisionTreeClassifier()\n",
    "dt_classifier.fit(train_features_balanced, train_labels_balanced)\n",
    "dt_predict = dt_classifier.predict(test_features)"
   ]
  },
  {
   "cell_type": "code",
   "execution_count": 56,
   "metadata": {},
   "outputs": [
    {
     "name": "stdout",
     "output_type": "stream",
     "text": [
      "[[10601  1834]\n",
      " [ 1597  2249]]\n",
      "              precision    recall  f1-score   support\n",
      "\n",
      "           0       0.87      0.85      0.86     12435\n",
      "           1       0.55      0.58      0.57      3846\n",
      "\n",
      "    accuracy                           0.79     16281\n",
      "   macro avg       0.71      0.72      0.71     16281\n",
      "weighted avg       0.79      0.79      0.79     16281\n",
      "\n"
     ]
    }
   ],
   "source": [
    "print(\"Decision tree confusion matrix and classification report:\")\n",
    "print(confusion_matrix(test_labels, dt_predict))\n",
    "print(classification_report(test_labels, dt_predict))"
   ]
  },
  {
   "cell_type": "code",
   "execution_count": null,
   "metadata": {},
   "outputs": [],
   "source": [
    "#knn\n",
    "knn_classifier = KNeighborsClassifier(n_neighbors=1027)\n",
    "knn_classifier.fit(train_features_balanced, train_labels_balanced) \n",
    "knn_predict = knn_classifier.predict(test_features)"
   ]
  },
  {
   "cell_type": "code",
   "execution_count": null,
   "metadata": {},
   "outputs": [],
   "source": [
    "print(\"KNN confusion matrix and classification report:\")\n",
    "print(confusion_matrix(test_labels, knn_predict))\n",
    "print(classification_report(test_labels,knn_predict))"
   ]
  },
  {
   "cell_type": "code",
   "execution_count": null,
   "metadata": {},
   "outputs": [],
   "source": [
    "#naive bayes\n",
    "gnb_classifier = GaussianNB()\n",
    "gnb_classifier.fit(train_features_balanced, train_labels_balanced)\n",
    "gnb_predict = gnb_classifier.predict(test_features)"
   ]
  },
  {
   "cell_type": "code",
   "execution_count": null,
   "metadata": {},
   "outputs": [],
   "source": [
    "print(\"Naive bayes confusion matrix and classification report:\")\n",
    "print(confusion_matrix(test_labels, gnb_predict))\n",
    "print(classification_report(test_labels, gnb_predict))"
   ]
  },
  {
   "cell_type": "code",
   "execution_count": null,
   "metadata": {},
   "outputs": [],
   "source": [
    "#printing overall accuracy\n",
    "final = []\n",
    "for i in range(len(dt_predict)):\n",
    "    final.append(mode([knn_predict[i], dt_predict[i], gnb_pred[i]]))\n",
    "wrongs = 0\n",
    "for i in range(len(test_labels)):\n",
    "    if final[i] == 0 and test_labels[i] == 0:\n",
    "        true_negatives += 1\n",
    "    elif final[i] == 0 and test_labels[i] == 1:\n",
    "        false_negatives += 1\n",
    "        wrongs += 1\n",
    "    elif final[i] == 1 and test_labels[i] == 1:\n",
    "        true_positives += 1\n",
    "    elif final[i] == 1 and test_labels[i] == 0:\n",
    "        false_positives += 1\n",
    "        wrongs += 1"
   ]
  },
  {
   "cell_type": "code",
   "execution_count": null,
   "metadata": {},
   "outputs": [],
   "source": [
    "print('True Negatives (<= 50K):', true_negatives)\n",
    "print('False Negatives (<= 50K):', false_negatives)\n",
    "print('True Positives (>50K):', true_positives)\n",
    "print('False Positives (>50K):', false_positives)"
   ]
  },
  {
   "cell_type": "code",
   "execution_count": null,
   "metadata": {},
   "outputs": [],
   "source": [
    "print('Final accuracy:', 1-(wrongs/len(test_labels)))"
   ]
  }
 ],
 "metadata": {
  "kernelspec": {
   "display_name": "Python 3",
   "language": "python",
   "name": "python3"
  },
  "language_info": {
   "codemirror_mode": {
    "name": "ipython",
    "version": 3
   },
   "file_extension": ".py",
   "mimetype": "text/x-python",
   "name": "python",
   "nbconvert_exporter": "python",
   "pygments_lexer": "ipython3",
   "version": "3.7.3"
  }
 },
 "nbformat": 4,
 "nbformat_minor": 2
}
