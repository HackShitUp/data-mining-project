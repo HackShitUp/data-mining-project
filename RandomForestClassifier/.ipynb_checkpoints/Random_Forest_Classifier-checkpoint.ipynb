{
 "cells": [
  {
   "cell_type": "code",
   "execution_count": 11,
   "metadata": {},
   "outputs": [],
   "source": [
    "import numpy as np\n",
    "import pandas as pd\n",
    "from matplotlib import pyplot as plt\n",
    "from sklearn.pipeline import Pipeline\n",
    "from sklearn.impute import SimpleImputer\n",
    "from sklearn.base import TransformerMixin\n",
    "from sklearn import tree\n",
    "from sklearn.model_selection import train_test_split\n",
    "from sklearn.tree import DecisionTreeClassifier\n",
    "from sklearn.ensemble import RandomForestClassifier\n",
    "from sklearn.metrics import classification_report, confusion_matrix\n",
    "\n",
    "# Inhibit warnings\n",
    "def warn(*args, **kwargs):\n",
    "    pass\n",
    "import warnings\n",
    "warnings.warn = warn"
   ]
  },
  {
   "cell_type": "code",
   "execution_count": 12,
   "metadata": {},
   "outputs": [
    {
     "ename": "IndentationError",
     "evalue": "expected an indented block (<ipython-input-12-bf3efcc8758e>, line 13)",
     "output_type": "error",
     "traceback": [
      "\u001b[0;36m  File \u001b[0;32m\"<ipython-input-12-bf3efcc8758e>\"\u001b[0;36m, line \u001b[0;32m13\u001b[0m\n\u001b[0;31m    '''\u001b[0m\n\u001b[0m       ^\u001b[0m\n\u001b[0;31mIndentationError\u001b[0m\u001b[0;31m:\u001b[0m expected an indented block\n"
     ]
    }
   ],
   "source": [
    "'''\n",
    "Iterates through the data frame and log each value. Useful for read ops.\n",
    "@param data_frame: A DataFrame object.\n",
    "'''\n",
    "def iterate_through_records(data_frame):\n",
    "    for i, name in enumerate(data_frame.columns):\n",
    "        for j, row in data_frame.iterrows():\n",
    "#             print(row[j])\n",
    "\n",
    "\n",
    "\n",
    "'''\n",
    "Iterates through the data frame and log each value. Useful for read ops.\n",
    "@param data_frame: A DataFrame object.\n",
    "'''\n",
    "def impute_with_mean_of_column(data_frame):\n",
    "    for i, name in enumerate(data_frame.columns):\n",
    "        for j, row in data_frame.iterrows():\n",
    "#             print(row[j])\n",
    "            data_frame[j][i] = data_frame.columns[i].mean()\n",
    "\n",
    "\n",
    "\n",
    "'''\n",
    "Abstract: Custom class used to impute missing values with the mean of its axis (aka column of value). \n",
    "Credits: https://stackoverflow.com/a/25562948\n",
    "'''\n",
    "class DataFrameImputer(TransformerMixin):\n",
    "\n",
    "    # MARK: - Init\n",
    "    def __init__(self):\n",
    "        \"\"\"\n",
    "        Impute missing values. Columns of dtype object are imputed with the most frequent value \n",
    "        in column. Columns of other types are imputed with mean of column.\n",
    "        \"\"\"\n",
    "        \n",
    "    def fit(self, X, y=None):\n",
    "        self.fill = pd.Series([X[c].value_counts().index[0]\n",
    "            if X[c].dtype == np.dtype('?') else X[c].mean() for c in X],\n",
    "            index = X.columns)\n",
    "        \n",
    "        return self\n",
    "\n",
    "    def transform(self, X, y=None):\n",
    "        return X.fillna(self.fill)"
   ]
  },
  {
   "cell_type": "code",
   "execution_count": null,
   "metadata": {},
   "outputs": [],
   "source": [
    "# Initialized array of String values representing the headers (best practice is to NOT manipualte data directly — via 'census-income.names.csv.txt')\n",
    "features = [\n",
    "    \"age\",\n",
    "    \"workclass\",\n",
    "    \"fnlwgt\",\n",
    "    \"education\",\n",
    "    \"education-num\",\n",
    "    \"marital-status\",\n",
    "    \"occupation\",\n",
    "    \"relationship\",\n",
    "    \"race\",\n",
    "    \"sex\",\n",
    "    \"capital-gain\",\n",
    "    \"capital-loss\",\n",
    "    \"hours-per-week\",\n",
    "    \"native-country\",\n",
    "    \"income\"\n",
    "]\n",
    "\n",
    "# Define the classifiers for $50K <= and $50K+\n",
    "at_most_50K = '<=50K'\n",
    "more_than_50K = '>50K'\n",
    "\n",
    "# MARK: - DataFrame\n",
    "train_data = pd.read_csv('../data/census-income.data.csv', header=None, names=features)"
   ]
  },
  {
   "cell_type": "code",
   "execution_count": null,
   "metadata": {},
   "outputs": [],
   "source": [
    "'''\n",
    "Data Preprocessing Logic:\n",
    "(1) Lambda Transformation (cast String to binary - float or Int)\n",
    "(2) Inpute missing values with mean of its given axis (aka take sum/count in its column)\n",
    "'''\n",
    "\n",
    "#Transform strings into integers for 'sex' column\n",
    "train_data[\"gender\"] = train_data[\"sex\"].apply(lambda row: 0 if row == \"Male\" else 1)\n",
    "\n",
    "'''\n",
    "Mapping Strings to numbers is only applicable to coninuous numbers. For instance, it wouldn't make much sense to map \n",
    "'United States' to 0 'Germany' to 1, and 'Mexico' to 2. If we did this, we're saying that Mexico is more similar to \n",
    "Germany than the U.S.\n",
    "'''\n",
    "# Transform strings into integers for 'native-country' column\n",
    "train_data[\"america\"] = train_data[\"native-country\"].apply(lambda row: 0 if row == \"United-States\" else 1)\n",
    "\n",
    "# Create the labels\n",
    "labels = train_data[\"income\"]\n",
    "# Define the key features in the data set\n",
    "key_features = [\"age\", \"capital-gain\", \"capital-loss\", \"hours-per-week\", \"gender\", \"america\"]\n",
    "\n",
    "# Split the training data and labels into training and test sets\n",
    "training_data, testing_data, training_labels, testing_labels = train_test_split(train_data[key_features], labels, random_state=1)"
   ]
  },
  {
   "cell_type": "code",
   "execution_count": null,
   "metadata": {},
   "outputs": [],
   "source": [
    "# MARK: - RandomForestClassifier\n",
    "random_forest_classifier = RandomForestClassifier(random_state=1)\n",
    "random_forest_classifier.fit(training_data, training_labels)\n",
    "\n",
    "print('Important Features:', random_forest_classifier.feature_importances_)\n",
    "\n",
    "# MARK: - Matplotlib\n",
    "plt.figure(figsize=(15, 10))\n",
    "plt.bar(key_features, random_forest_classifier.feature_importances_)\n",
    "plt.title(\"Random Forest — Important Features\")\n",
    "plt.xlabel(\"Feature\")\n",
    "plt.ylabel(\"Importance\")\n",
    "plt.show()"
   ]
  },
  {
   "cell_type": "code",
   "execution_count": null,
   "metadata": {},
   "outputs": [],
   "source": [
    "# Here, we define the prediction score\n",
    "score = random_forest_classifier.score(testing_data, testing_labels)\n",
    "score = score * 100.00\n",
    "print('\\nScore:')\n",
    "print(score, '%')"
   ]
  },
  {
   "cell_type": "code",
   "execution_count": null,
   "metadata": {},
   "outputs": [],
   "source": [
    "# Get the prediction from the test data\n",
    "prediction_score = random_forest_classifier.predict(testing_data)\n",
    "print('Prediction Score:', prediction_score)"
   ]
  }
 ],
 "metadata": {
  "kernelspec": {
   "display_name": "Python 3",
   "language": "python",
   "name": "python3"
  },
  "language_info": {
   "codemirror_mode": {
    "name": "ipython",
    "version": 3
   },
   "file_extension": ".py",
   "mimetype": "text/x-python",
   "name": "python",
   "nbconvert_exporter": "python",
   "pygments_lexer": "ipython3",
   "version": "3.7.3"
  }
 },
 "nbformat": 4,
 "nbformat_minor": 2
}
